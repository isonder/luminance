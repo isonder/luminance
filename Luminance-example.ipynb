{
 "cells": [
  {
   "cell_type": "code",
   "execution_count": null,
   "metadata": {
    "ExecuteTime": {
     "end_time": "2017-12-15T04:32:42.110449Z",
     "start_time": "2017-12-15T04:32:41.550741Z"
    }
   },
   "outputs": [],
   "source": [
    "%matplotlib inline\n",
    "import numpy as np\n",
    "import matplotlib.pyplot as plt\n",
    "from pims import ImageSequence\n",
    "\n",
    "from lib import luminance\n",
    "from lib import load"
   ]
  },
  {
   "cell_type": "markdown",
   "metadata": {},
   "source": [
    "### Video Material\n",
    "\n",
    "Image data was published as data set at the [VHub](https://vhub.org) platform. Videos of each run are published as separate dataset.\n",
    "  - `pr06`: https://vhub.org/resources/4211\n",
    "  - `pr05`: https://vhub.org/resources/4237\n",
    "  - `ir16`: https://vhub.org/resources/4240\n",
    "  - `ir15`: https://vhub.org/resources/4246\n",
    "  - `ir14`: https://vhub.org/resources/4261\n",
    "  - `ir13`: https://vhub.org/resources/4270\n",
    "  - `ir12`: https://vhub.org/resources/4279\n",
    "  - `ir07`: https://vhub.org/resources/4289\n",
    "  - `ir06`: https://vhub.org/resources/4293\n",
    "  - `ir05`: https://vhub.org/resources/4299\n",
    "  - `ir04`: https://vhub.org/resources/4306\n",
    "  - `ir03`: https://vhub.org/resources/4313"
   ]
  },
  {
   "cell_type": "markdown",
   "metadata": {},
   "source": [
    "`load.show()` lists the videos that were already analyzed. `load.show(url=True)` will also print the corresponding download urls of each video."
   ]
  },
  {
   "cell_type": "code",
   "execution_count": null,
   "metadata": {
    "ExecuteTime": {
     "end_time": "2017-12-15T04:33:01.528331Z",
     "start_time": "2017-12-15T04:33:01.523158Z"
    }
   },
   "outputs": [],
   "source": [
    "load.show()"
   ]
  },
  {
   "cell_type": "markdown",
   "metadata": {},
   "source": [
    "### Create an image sequence from the video file\n",
    "\n",
    "To ease the download/file naming process, the `load.imseq()` function will test if the video data of a specific experiment (`run`) and camera is already present on the system (i.e. in the `data/` folder). If that is not the case, it will download the video file from VHub, create ana ppropriate folder, and convert it to an image sequence using `ffmpeg` with the following command\n",
    "```bash\n",
    "ffmpeg -i data/run_cam.mp4 -q:v 1 data/run_cam/frame%08d.jpg\n",
    "```\n",
    "The original video file or zip archives will not be removed after the sequence is created. \n",
    "> **note on file and folder names**: We started working with camera names containing the manufacturer, since this is easy to start with. For a publication this is however not optimal. Therefore some of the (later) uploaded video material contains a different camera label. During dowload the `load.ipseq()` function prints out a line containing the file name on disk. Also the [dataset pages on VHub](#Video-material) listed above have the explicit video name convention explicitely listed.\n",
    "\n",
    "Be aware that some of the video material may be large (>1GB). The `casio-f1` file of the `pr06` run will only use about 200MB disk space:"
   ]
  },
  {
   "cell_type": "code",
   "execution_count": null,
   "metadata": {
    "ExecuteTime": {
     "end_time": "2017-12-15T04:33:14.642689Z",
     "start_time": "2017-12-15T04:33:14.576627Z"
    }
   },
   "outputs": [],
   "source": [
    "seq = load.imgseq(run='pr06', cam='casio-f1')"
   ]
  },
  {
   "cell_type": "markdown",
   "metadata": {},
   "source": [
    "Once the image sequence is present on the hard disk `load.imseq()` will skip the download and convertion steps and just return the sequence (`pims.ImageSequence`) object. This can be made explicit by replacing the above call with the following line (and un-comment), and adjusting the path specification. The two loading options `as_grey` and `format` should not be changed. They ensure that data is loaded as gray values with an appropriate whit point determined by the image source, and the array's numeryc format is 64-bit float.\n",
    "```python\n",
    "seq = ImageSequence('data/pr06_casio-f1/*.jpg', as_grey=True, format=np.float64)\n",
    "```"
   ]
  },
  {
   "cell_type": "code",
   "execution_count": null,
   "metadata": {
    "ExecuteTime": {
     "end_time": "2017-12-15T04:33:27.049630Z",
     "start_time": "2017-12-15T04:33:26.892155Z"
    },
    "scrolled": false
   },
   "outputs": [],
   "source": [
    "seq[0]"
   ]
  },
  {
   "cell_type": "markdown",
   "metadata": {},
   "source": [
    "**spatial resolution:**  \n",
    "Width of container top is 51 cm in real space, 129 px on image frame."
   ]
  },
  {
   "cell_type": "code",
   "execution_count": null,
   "metadata": {},
   "outputs": [],
   "source": [
    "res = .51 / 129"
   ]
  },
  {
   "cell_type": "markdown",
   "metadata": {},
   "source": [
    "**Melt brightness:**  \n",
    "That should be measured from a typical melt 'domain' that shows no sign of motion blur. The measurement tool of ImageJ is the quickes way to do that."
   ]
  },
  {
   "cell_type": "code",
   "execution_count": null,
   "metadata": {},
   "outputs": [],
   "source": [
    "bmelt = 175."
   ]
  },
  {
   "cell_type": "markdown",
   "metadata": {},
   "source": [
    "**Field of view:**  \n",
    "Visible area is the images resolution multiplied by the images width $W$ and height $H$\n",
    "$$\n",
    "S_c = a^2\\,W\\,H\n",
    "$$"
   ]
  },
  {
   "cell_type": "code",
   "execution_count": null,
   "metadata": {},
   "outputs": [],
   "source": [
    "H, W = seq[0].shape\n",
    "Sc = res ** 2 * W * H\n",
    "Sc"
   ]
  },
  {
   "cell_type": "markdown",
   "metadata": {},
   "source": [
    "Cumulative melt brightness is the brightness that would be measures if only melt was visible in the image, therefore"
   ]
  },
  {
   "cell_type": "code",
   "execution_count": null,
   "metadata": {},
   "outputs": [],
   "source": [
    "Bmelt = W * H * bmelt"
   ]
  },
  {
   "cell_type": "markdown",
   "metadata": {},
   "source": [
    "**Background noise:**  \n",
    "Take all frames before start of water injection to compute the average brightness of that interval. This is the beckground noise. In this video injection starts at frame 94, when the sync light turns on."
   ]
  },
  {
   "cell_type": "code",
   "execution_count": null,
   "metadata": {},
   "outputs": [],
   "source": [
    "B0 = luminance.average_cbright(seq[:94])"
   ]
  },
  {
   "cell_type": "markdown",
   "metadata": {},
   "source": [
    "**Luminanace:**  \n",
    "$$\n",
    "L = S_c\\,\\frac{B - B_0}{B_{melt} - B_0}\n",
    "$$"
   ]
  },
  {
   "cell_type": "code",
   "execution_count": null,
   "metadata": {},
   "outputs": [],
   "source": [
    "L = luminance.luminance_sequence(seq, Sc, Bmelt, B0)"
   ]
  },
  {
   "cell_type": "markdown",
   "metadata": {},
   "source": [
    "**Time axis:**  \n",
    "A time array that is 0 at water injection start, with time steps matching those of the video frame rate."
   ]
  },
  {
   "cell_type": "code",
   "execution_count": null,
   "metadata": {},
   "outputs": [],
   "source": [
    "fps = 300\n",
    "t = np.linspace(-94 / fps, (len(L) - 94) / fps, len(L))"
   ]
  },
  {
   "cell_type": "markdown",
   "metadata": {},
   "source": [
    "Plot result"
   ]
  },
  {
   "cell_type": "code",
   "execution_count": null,
   "metadata": {},
   "outputs": [],
   "source": [
    "plt.figure(figsize=(9, 6))\n",
    "plt.plot(t, L)\n",
    "plt.xlabel(r'$t/\\mathrm{s}$')\n",
    "plt.ylabel(r'$L/\\mathrm{m^2}$');"
   ]
  },
  {
   "cell_type": "markdown",
   "metadata": {},
   "source": [
    "## Optional Functionality\n",
    "### The `select` switch: Compute $L$ for a selection"
   ]
  },
  {
   "cell_type": "markdown",
   "metadata": {},
   "source": [
    " To improve the signal to noise ratio, $L$ can be computed from a subset of each frame. That selection is the same for all frames in the sequence.   \n",
    "The format is `((vertical start, vertical end), (horizontal start, horizontal end))`"
   ]
  },
  {
   "cell_type": "code",
   "execution_count": null,
   "metadata": {},
   "outputs": [],
   "source": [
    "sel = ((0, 250), (140, 440))\n",
    "\n",
    "seq[0][0:250, 140:440]"
   ]
  },
  {
   "cell_type": "markdown",
   "metadata": {},
   "source": [
    "Per pixel values stay unchanges. Cumulative values ($B_{melt}, B_0$) have to be re-computed."
   ]
  },
  {
   "cell_type": "code",
   "execution_count": null,
   "metadata": {},
   "outputs": [],
   "source": [
    "H1, W1 = 250, 300\n",
    "Bmelt1 = H1 * W1 * bmelt\n",
    "Sc1 = H1 * W1 * res ** 2\n",
    "Sc1"
   ]
  },
  {
   "cell_type": "markdown",
   "metadata": {},
   "source": [
    "The functions of the `luminance` module have a `select` switch, where appropriate, which use the above format."
   ]
  },
  {
   "cell_type": "code",
   "execution_count": null,
   "metadata": {},
   "outputs": [],
   "source": [
    "B01 = luminance.average_cbright(seq[:94], select=sel)\n",
    "L1 = luminance.luminance_sequence(seq, Sc1, Bmelt1, B01, select=sel)"
   ]
  },
  {
   "cell_type": "code",
   "execution_count": null,
   "metadata": {},
   "outputs": [],
   "source": [
    "plt.figure(figsize=(9, 6))\n",
    "plt.plot(t, L1)\n",
    "plt.xlabel(r'$t/\\mathrm{s}$')\n",
    "plt.ylabel(r'$L_1/\\mathrm{m^2}$');"
   ]
  },
  {
   "cell_type": "markdown",
   "metadata": {},
   "source": [
    "### Propagation of Uncertainties / Measurement Errors"
   ]
  },
  {
   "cell_type": "markdown",
   "metadata": {},
   "source": [
    "Image resolutions $a$ (```res``` in the code)\n",
    "$$\n",
    "a = \\frac{x}{X}\\quad,\n",
    "$$\n",
    "where $x$ is a known length in real space, measured for example in meters, and $X$ is the same length on the camera's chip, measured in px. In this example the container width is known to be $x=0.51\\,\\mathrm{m}$ wide, and the accuracy is about $\\pm2\\,\\mathrm{mm}$. In the image sequence the container width is $X=129\\,\\mathrm{px}$, and the accuracy there is about $\\pm1\\,\\mathrm{px}$.\n",
    "\n",
    "$$\n",
    "\\sigma_{a}^2 = a^2\\,\\Bigl(\\frac{\\sigma_x^2}{x^2} + \\frac{\\sigma_X^2}{X^2}\\Bigr)\n",
    "$$"
   ]
  },
  {
   "cell_type": "code",
   "execution_count": null,
   "metadata": {},
   "outputs": [],
   "source": [
    "σres = res * np.sqrt((2e-3 / 0.51) ** 2 + (1 / 129.1) ** 2)\n",
    "res, σres"
   ]
  },
  {
   "cell_type": "markdown",
   "metadata": {},
   "source": [
    "The camera specific melt brightness of one pixel is ${b_{melt}=175}{}$ (no units here). Playing around with a suitable averaging area shows that this value typically changes by about ${\\sigma_{b_{melt}}=\\pm5}$. \n",
    "$$\n",
    "\\sigma_{B_{melt}} = \\sigma_{b_{melt}}\\frac{B_{melt}}{b_{melt}}\n",
    "$$"
   ]
  },
  {
   "cell_type": "code",
   "execution_count": null,
   "metadata": {},
   "outputs": [],
   "source": [
    "σbmelt = 5.\n",
    "σBmelt = σbmelt * Bmelt / bmelt\n",
    "σBmelt"
   ]
  },
  {
   "cell_type": "markdown",
   "metadata": {},
   "source": [
    "Error of $S_c$:\n",
    "\n",
    "$$\n",
    "\\sigma_{S_c} = 2S_c\\,\\frac{\\sigma_{a}}{a}\n",
    "$$"
   ]
  },
  {
   "cell_type": "code",
   "execution_count": null,
   "metadata": {},
   "outputs": [],
   "source": [
    "σSc = 2 * Sc * σres / res\n",
    "σSc"
   ]
  },
  {
   "cell_type": "markdown",
   "metadata": {},
   "source": [
    "Uncertainty for the background level (noise) $B_0$ comes from the temporal changes during the averaging period (here during the first 94 frames of the image sequence. The `average_cbright()` function has an `uncert` switch. When set to `True` a tuple of $B_0$ and its standard deviation is returned."
   ]
  },
  {
   "cell_type": "code",
   "execution_count": null,
   "metadata": {},
   "outputs": [],
   "source": [
    "B0, σB0 = luminance.average_cbright(chunk=seq[:94], uncert=True)\n",
    "B0, σB0"
   ]
  },
  {
   "cell_type": "markdown",
   "metadata": {},
   "source": [
    "Luminances uncertainty is evaluated as:\n",
    "$$\n",
    "\\sigma_L^2 = \\biggl(\\frac{L}{B_{melt}-B_0}\\biggr)^2 \\sigma_{B_{melt}}^2 +\n",
    "\\biggl(\\frac{L - 1}{B_{melt}-B_0}\\biggr)^2\\sigma_{B_0}^2 +\n",
    "\\biggl(\\frac{L}{S_c}\\biggr)^2\\sigma_{S_c}^2\n",
    "\\quad,\n",
    "$$\n",
    "and is available as function `sigma_luminance()`, that returns an array with uncertainties for each frame it was given in the `lum` parameter."
   ]
  },
  {
   "cell_type": "code",
   "execution_count": null,
   "metadata": {},
   "outputs": [],
   "source": [
    "σL = luminance.sigma_luminance(lum=L, ref=Bmelt, sref=σBmelt, noise=B0, snoise=σB0,\n",
    "                               fov=Sc, sfov=σSc)"
   ]
  },
  {
   "cell_type": "markdown",
   "metadata": {},
   "source": [
    "A plot with the standard deviation as gray shadow:"
   ]
  },
  {
   "cell_type": "code",
   "execution_count": null,
   "metadata": {},
   "outputs": [],
   "source": [
    "plt.figure(figsize=(9, 6))\n",
    "plt.fill_between(t, L1 + σL, L1 - σL, color='#b5b5b5')\n",
    "plt.plot(t, L1)\n",
    "plt.xlabel(r'$t/\\mathrm{s}$')\n",
    "plt.ylabel(r'$L_1/\\mathrm{m^2}$');"
   ]
  }
 ],
 "metadata": {
  "hide_input": false,
  "kernelspec": {
   "display_name": "Python 3",
   "language": "python",
   "name": "python3"
  },
  "language_info": {
   "codemirror_mode": {
    "name": "ipython",
    "version": 3
   },
   "file_extension": ".py",
   "mimetype": "text/x-python",
   "name": "python",
   "nbconvert_exporter": "python",
   "pygments_lexer": "ipython3",
   "version": "3.6.4"
  },
  "latex_envs": {
   "LaTeX_envs_menu_present": true,
   "autocomplete": true,
   "bibliofile": "biblio.bib",
   "cite_by": "apalike",
   "current_citInitial": 1,
   "eqLabelWithNumbers": true,
   "eqNumInitial": 1,
   "hotkeys": {
    "equation": "Ctrl-E",
    "itemize": "Ctrl-I"
   },
   "labels_anchors": false,
   "latex_user_defs": false,
   "report_style_numbering": false,
   "user_envs_cfg": false
  },
  "toc": {
   "colors": {
    "hover_highlight": "#DAA520",
    "running_highlight": "#FF0000",
    "selected_highlight": "#FFD700"
   },
   "moveMenuLeft": true,
   "navigate_menu": false,
   "number_sections": true,
   "sideBar": true,
   "threshold": 4,
   "toc_cell": false,
   "toc_position": {
    "height": "852px",
    "left": "0px",
    "right": "1411px",
    "top": "135px",
    "width": "312px"
   },
   "toc_section_display": "block",
   "toc_window_display": true,
   "widenNotebook": true
  }
 },
 "nbformat": 4,
 "nbformat_minor": 2
}
